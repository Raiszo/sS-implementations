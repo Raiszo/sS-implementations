{
 "cells": [
  {
   "cell_type": "code",
   "execution_count": 6,
   "metadata": {},
   "outputs": [
    {
     "name": "stdout",
     "output_type": "stream",
     "text": [
      "The autoreload extension is already loaded. To reload it, use:\n",
      "  %reload_ext autoreload\n"
     ]
    }
   ],
   "source": [
    "import os.path\n",
    "import tensorflow as tf\n",
    "import warnings\n",
    "from distutils.version import LooseVersion\n",
    "import project_tests as tests\n",
    "\n",
    "import matplotlib.pyplot as plt\n",
    "import matplotlib.gridspec as gridspec\n",
    "%matplotlib inline\n",
    "plt.rcParams['figure.figsize'] = (10.0, 8.0) # set default size of plots\n",
    "plt.rcParams['image.interpolation'] = 'nearest'\n",
    "plt.rcParams['image.cmap'] = 'gray'\n",
    "\n",
    "def get_session():\n",
    "    config = tf.ConfigProto()\n",
    "    config.gpu_options.allow_growth = True\n",
    "    session = tf.Session(config=config)\n",
    "    return session\n",
    "\n",
    "# for auto-reloading external modules\n",
    "# see http://stackoverflow.com/questions/1907993/autoreload-of-modules-in-ipython\n",
    "%load_ext autoreload\n",
    "%autoreload 2"
   ]
  },
  {
   "cell_type": "code",
   "execution_count": 12,
   "metadata": {},
   "outputs": [
    {
     "name": "stdout",
     "output_type": "stream",
     "text": [
      "<unknown>\n",
      "<unknown>\n",
      "<unknown>\n",
      "<unknown>\n",
      "<unknown>\n",
      "Tests Passed\n"
     ]
    }
   ],
   "source": [
    "def load_vgg(sess, path):\n",
    "    # TODO: Implement function\n",
    "    #   Use tf.saved_model.loader.load to load the model and weights\n",
    "    vgg_tag = 'vgg16'\n",
    "    vgg_input_tensor_name = 'image_input:0'\n",
    "    vgg_keep_prob_tensor_name = 'keep_prob:0'\n",
    "    vgg_layer3_out_tensor_name = 'layer3_out:0'\n",
    "    vgg_layer4_out_tensor_name = 'layer4_out:0'\n",
    "    vgg_layer7_out_tensor_name = 'layer7_out:0'\n",
    "    \n",
    "    tf.saved_model.loader.load(sess, [vgg_tag], path)\n",
    "    graph = tf.get_default_graph()\n",
    "    \n",
    "    x = graph.get_tensor_by_name(vgg_input_tensor_name)\n",
    "    print(x.shape)\n",
    "    prob = graph.get_tensor_by_name(vgg_keep_prob_tensor_name)\n",
    "    print(prob.shape)\n",
    "    l3 = graph.get_tensor_by_name(vgg_layer3_out_tensor_name)\n",
    "    print(l3.shape)\n",
    "    l4 = graph.get_tensor_by_name(vgg_layer4_out_tensor_name)\n",
    "    print(l4.shape)\n",
    "    l7 = graph.get_tensor_by_name(vgg_layer7_out_tensor_name)\n",
    "    print(l7.shape)\n",
    "    \n",
    "    return x, prob, l3, l4, l7\n",
    "\n",
    "# with get_session() as sess:\n",
    "#     x, prob, l3, l4, l7 = load_vgg(sess, '../data/vgg/')\n",
    "tests.test_load_vgg(load_vgg, tf)"
   ]
  },
  {
   "cell_type": "code",
   "execution_count": 13,
   "metadata": {},
   "outputs": [
    {
     "name": "stdout",
     "output_type": "stream",
     "text": [
      "INFO:tensorflow:Restoring parameters from b'../data/vgg/variables\\\\variables'\n",
      "(?, ?, ?, 3)\n",
      "<unknown>\n",
      "(?, ?, ?, 256)\n",
      "(?, ?, ?, 512)\n",
      "(?, ?, ?, 4096)\n"
     ]
    }
   ],
   "source": [
    "with get_session() as sess:\n",
    "    x, prob, l3, l4, l7 = load_vgg(sess, '../data/vgg/')"
   ]
  },
  {
   "cell_type": "code",
   "execution_count": 11,
   "metadata": {},
   "outputs": [
    {
     "name": "stdout",
     "output_type": "stream",
     "text": [
      "<unknown>\n",
      "Tests Passed\n"
     ]
    }
   ],
   "source": []
  },
  {
   "cell_type": "code",
   "execution_count": null,
   "metadata": {},
   "outputs": [],
   "source": []
  }
 ],
 "metadata": {
  "kernelspec": {
   "display_name": "win",
   "language": "python",
   "name": "win"
  },
  "language_info": {
   "codemirror_mode": {
    "name": "ipython",
    "version": 3
   },
   "file_extension": ".py",
   "mimetype": "text/x-python",
   "name": "python",
   "nbconvert_exporter": "python",
   "pygments_lexer": "ipython3",
   "version": "3.6.4"
  }
 },
 "nbformat": 4,
 "nbformat_minor": 2
}
